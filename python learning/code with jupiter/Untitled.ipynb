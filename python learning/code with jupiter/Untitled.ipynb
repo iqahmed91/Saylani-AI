{
 "cells": [
  {
   "cell_type": "code",
   "execution_count": 1,
   "id": "11bc9e69",
   "metadata": {},
   "outputs": [
    {
     "name": "stdout",
     "output_type": "stream",
     "text": [
      "iqbal\n"
     ]
    }
   ],
   "source": [
    "print(\"iqbal\")"
   ]
  },
  {
   "cell_type": "code",
   "execution_count": 4,
   "id": "593cb45c",
   "metadata": {},
   "outputs": [
    {
     "name": "stdout",
     "output_type": "stream",
     "text": [
      "sad\n"
     ]
    }
   ],
   "source": [
    "print(\"sad\")"
   ]
  },
  {
   "cell_type": "code",
   "execution_count": 5,
   "id": "f52643eb",
   "metadata": {},
   "outputs": [
    {
     "name": "stdout",
     "output_type": "stream",
     "text": [
      "shahzad\n"
     ]
    }
   ],
   "source": [
    "print(\"shahzad\")"
   ]
  },
  {
   "cell_type": "code",
   "execution_count": null,
   "id": "434947a4",
   "metadata": {},
   "outputs": [],
   "source": []
  },
  {
   "cell_type": "code",
   "execution_count": null,
   "id": "ed1aef65",
   "metadata": {},
   "outputs": [],
   "source": []
  }
 ],
 "metadata": {
  "kernelspec": {
   "display_name": "Python 3 (ipykernel)",
   "language": "python",
   "name": "python3"
  },
  "language_info": {
   "codemirror_mode": {
    "name": "ipython",
    "version": 3
   },
   "file_extension": ".py",
   "mimetype": "text/x-python",
   "name": "python",
   "nbconvert_exporter": "python",
   "pygments_lexer": "ipython3",
   "version": "3.9.12"
  }
 },
 "nbformat": 4,
 "nbformat_minor": 5
}
